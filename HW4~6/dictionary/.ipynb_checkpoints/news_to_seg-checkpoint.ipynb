{
 "cells": [
  {
   "cell_type": "code",
   "execution_count": 0,
   "metadata": {},
   "outputs": [],
   "source": [
    "# Change directory to VSCode workspace root so that relative path loads work correctly. Turn this addition off with the DataScience.changeDirOnImportExport setting\n",
    "import os\n",
    "try:\n",
    "\tos.chdir(os.path.join(os.getcwd(), '..'))\n",
    "\tprint(os.getcwd())\n",
    "except:\n",
    "\tpass\n"
   ]
  },
  {
   "cell_type": "markdown",
   "metadata": {},
   "source": [
    " # Jieba斷句\n",
    " 將爬蟲結果用 Jieba 進行拆字、斷句，並將結果分別存成txt檔\n",
    "\n",
    " [Jieba斷句結果](https://github.com/ChiaYi-LIN/1072-CSX4001-B04704016/edit/master/HW4~6/dictionary/data)"
   ]
  },
  {
   "cell_type": "code",
   "execution_count": 0,
   "metadata": {},
   "outputs": [],
   "source": [
    "import pandas as pd\n",
    "import pickle\n",
    "import jieba\n",
    "import jieba.analyse\n"
   ]
  },
  {
   "cell_type": "code",
   "execution_count": 0,
   "metadata": {},
   "outputs": [],
   "source": [
    "# Define a function to load scraped data\n",
    "def load_data(filename):\n",
    "    with open(\"./crawler/data/tech_orange_\" + filename + \".pkl\", \"rb\") as handle:\n",
    "        data = pickle.load(handle)\n",
    "\n",
    "    # Reverse data\n",
    "    data = data[::-1]\n",
    "    data = pd.DataFrame(data)\n",
    "    return(data)\n"
   ]
  },
  {
   "cell_type": "code",
   "execution_count": 0,
   "metadata": {},
   "outputs": [],
   "source": [
    "# Define a function to cut word and save results as txt files\n",
    "def cut_word(filename):\n",
    "    f = open(\"./dictionary/data/\" + filename + \"_seg.txt\", \"w+\", encoding=\"utf-8\")\n",
    "    data = load_data(filename)\n",
    "    all_news_content = data[\"content\"].values.tolist()\n",
    "    one_news_result = []\n",
    "    for one_news_content in all_news_content:\n",
    "        one_news_result[:] = []\n",
    "        seg_list = jieba.cut(one_news_content, cut_all=False)\n",
    "        for seg in seg_list:\n",
    "            seg = ''.join(seg.split())\n",
    "            if (seg != '' and seg != \"\\n\" and seg != \"\\n\\n\"):\n",
    "                one_news_result.append(seg)\n",
    "        f.write(' '.join(one_news_result))\n",
    "        f.write(\"\\n\")\n",
    "    f.close()\n"
   ]
  },
  {
   "cell_type": "code",
   "execution_count": 0,
   "metadata": {},
   "outputs": [],
   "source": [
    "# Execute Jieba cut word\n",
    "for industry in [\"ecommerce\", \"blockchain\", \"finance\", \"marketing\", \"travel\"]:\n",
    "    cut_word(industry)"
   ]
  }
 ],
 "metadata": {
  "file_extension": ".py",
  "kernelspec": {
   "display_name": "Python 3",
   "language": "python",
   "name": "python3"
  },
  "language_info": {
   "codemirror_mode": {
    "name": "ipython",
    "version": 3
   },
   "file_extension": ".py",
   "mimetype": "text/x-python",
   "name": "python",
   "nbconvert_exporter": "python",
   "pygments_lexer": "ipython3",
   "version": "3.6.6"
  },
  "mimetype": "text/x-python",
  "name": "python",
  "npconvert_exporter": "python",
  "pygments_lexer": "ipython3",
  "version": 3
 },
 "nbformat": 4,
 "nbformat_minor": 2
}
